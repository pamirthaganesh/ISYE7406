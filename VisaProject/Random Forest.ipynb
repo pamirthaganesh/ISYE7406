{
 "cells": [
  {
   "cell_type": "code",
   "execution_count": 1,
   "metadata": {},
   "outputs": [],
   "source": [
    "import numpy as np\n",
    "import pandas as pd\n",
    "import pprint as pp\n",
    "import matplotlib.pyplot as plt\n",
    "from sklearn.preprocessing import OneHotEncoder, LabelEncoder\n",
    "from sklearn.preprocessing import StandardScaler\n",
    "from sklearn.ensemble import RandomForestClassifier\n",
    "from sklearn.model_selection import train_test_split\n",
    "from sklearn.model_selection import cross_val_score, ShuffleSplit\n",
    "from sklearn.metrics import f1_score, accuracy_score\n",
    "from sklearn.metrics import precision_score, recall_score\n",
    "\n",
    "#%matplotlib qt\n",
    "%matplotlib inline\n"
   ]
  },
  {
   "cell_type": "code",
   "execution_count": 2,
   "metadata": {},
   "outputs": [
    {
     "name": "stdout",
     "output_type": "stream",
     "text": [
      "(20652, 13) \n",
      "\n",
      "CASE_STATUS                      int64\n",
      "CASE_SUBMITTED                   int64\n",
      "SOC_CODE                       float64\n",
      "FULL_TIME_POSITION               int64\n",
      "TOTAL_WORKER_POSITIONS           int64\n",
      "AGENT_REPRESENTING_EMPLOYER    float64\n",
      "H-1B_DEPENDENT                 float64\n",
      "WILLFUL_VIOLATOR               float64\n",
      "NumOfNaN                       float64\n",
      "PERIOD_OF_EMPLOYMENT_LENGTH      int64\n",
      "Annual_Wage                      int64\n",
      "Fortune                          int64\n",
      "EMPLOYER_REGION                float64\n",
      "dtype: object\n"
     ]
    },
    {
     "data": {
      "text/html": [
       "<div>\n",
       "<style scoped>\n",
       "    .dataframe tbody tr th:only-of-type {\n",
       "        vertical-align: middle;\n",
       "    }\n",
       "\n",
       "    .dataframe tbody tr th {\n",
       "        vertical-align: top;\n",
       "    }\n",
       "\n",
       "    .dataframe thead th {\n",
       "        text-align: right;\n",
       "    }\n",
       "</style>\n",
       "<table border=\"1\" class=\"dataframe\">\n",
       "  <thead>\n",
       "    <tr style=\"text-align: right;\">\n",
       "      <th></th>\n",
       "      <th>CASE_STATUS</th>\n",
       "      <th>CASE_SUBMITTED</th>\n",
       "      <th>SOC_CODE</th>\n",
       "      <th>FULL_TIME_POSITION</th>\n",
       "      <th>TOTAL_WORKER_POSITIONS</th>\n",
       "      <th>AGENT_REPRESENTING_EMPLOYER</th>\n",
       "      <th>H-1B_DEPENDENT</th>\n",
       "      <th>WILLFUL_VIOLATOR</th>\n",
       "      <th>NumOfNaN</th>\n",
       "      <th>PERIOD_OF_EMPLOYMENT_LENGTH</th>\n",
       "      <th>Annual_Wage</th>\n",
       "      <th>Fortune</th>\n",
       "      <th>EMPLOYER_REGION</th>\n",
       "    </tr>\n",
       "  </thead>\n",
       "  <tbody>\n",
       "    <tr>\n",
       "      <th>0</th>\n",
       "      <td>0</td>\n",
       "      <td>3</td>\n",
       "      <td>11.0</td>\n",
       "      <td>1</td>\n",
       "      <td>0</td>\n",
       "      <td>1.0</td>\n",
       "      <td>0.0</td>\n",
       "      <td>0.0</td>\n",
       "      <td>5.0</td>\n",
       "      <td>3</td>\n",
       "      <td>0</td>\n",
       "      <td>0</td>\n",
       "      <td>4.0</td>\n",
       "    </tr>\n",
       "    <tr>\n",
       "      <th>1</th>\n",
       "      <td>0</td>\n",
       "      <td>1</td>\n",
       "      <td>13.0</td>\n",
       "      <td>1</td>\n",
       "      <td>0</td>\n",
       "      <td>0.0</td>\n",
       "      <td>1.0</td>\n",
       "      <td>0.0</td>\n",
       "      <td>12.0</td>\n",
       "      <td>2</td>\n",
       "      <td>2</td>\n",
       "      <td>0</td>\n",
       "      <td>4.0</td>\n",
       "    </tr>\n",
       "    <tr>\n",
       "      <th>2</th>\n",
       "      <td>0</td>\n",
       "      <td>1</td>\n",
       "      <td>15.0</td>\n",
       "      <td>1</td>\n",
       "      <td>0</td>\n",
       "      <td>1.0</td>\n",
       "      <td>0.0</td>\n",
       "      <td>0.0</td>\n",
       "      <td>10.0</td>\n",
       "      <td>3</td>\n",
       "      <td>2</td>\n",
       "      <td>0</td>\n",
       "      <td>2.0</td>\n",
       "    </tr>\n",
       "    <tr>\n",
       "      <th>3</th>\n",
       "      <td>0</td>\n",
       "      <td>0</td>\n",
       "      <td>11.0</td>\n",
       "      <td>0</td>\n",
       "      <td>0</td>\n",
       "      <td>0.0</td>\n",
       "      <td>0.0</td>\n",
       "      <td>0.0</td>\n",
       "      <td>18.0</td>\n",
       "      <td>3</td>\n",
       "      <td>2</td>\n",
       "      <td>0</td>\n",
       "      <td>4.0</td>\n",
       "    </tr>\n",
       "    <tr>\n",
       "      <th>4</th>\n",
       "      <td>0</td>\n",
       "      <td>2</td>\n",
       "      <td>51.0</td>\n",
       "      <td>1</td>\n",
       "      <td>0</td>\n",
       "      <td>0.0</td>\n",
       "      <td>0.0</td>\n",
       "      <td>0.0</td>\n",
       "      <td>17.0</td>\n",
       "      <td>3</td>\n",
       "      <td>0</td>\n",
       "      <td>0</td>\n",
       "      <td>4.0</td>\n",
       "    </tr>\n",
       "  </tbody>\n",
       "</table>\n",
       "</div>"
      ],
      "text/plain": [
       "   CASE_STATUS  CASE_SUBMITTED  SOC_CODE  FULL_TIME_POSITION  \\\n",
       "0            0               3      11.0                   1   \n",
       "1            0               1      13.0                   1   \n",
       "2            0               1      15.0                   1   \n",
       "3            0               0      11.0                   0   \n",
       "4            0               2      51.0                   1   \n",
       "\n",
       "   TOTAL_WORKER_POSITIONS  AGENT_REPRESENTING_EMPLOYER  H-1B_DEPENDENT  \\\n",
       "0                       0                          1.0             0.0   \n",
       "1                       0                          0.0             1.0   \n",
       "2                       0                          1.0             0.0   \n",
       "3                       0                          0.0             0.0   \n",
       "4                       0                          0.0             0.0   \n",
       "\n",
       "   WILLFUL_VIOLATOR  NumOfNaN  PERIOD_OF_EMPLOYMENT_LENGTH  Annual_Wage  \\\n",
       "0               0.0       5.0                            3            0   \n",
       "1               0.0      12.0                            2            2   \n",
       "2               0.0      10.0                            3            2   \n",
       "3               0.0      18.0                            3            2   \n",
       "4               0.0      17.0                            3            0   \n",
       "\n",
       "   Fortune  EMPLOYER_REGION  \n",
       "0        0              4.0  \n",
       "1        0              4.0  \n",
       "2        0              2.0  \n",
       "3        0              4.0  \n",
       "4        0              4.0  "
      ]
     },
     "execution_count": 2,
     "metadata": {},
     "output_type": "execute_result"
    }
   ],
   "source": [
    "'''\n",
    "Read input data\n",
    "'''\n",
    "#filename = 'Data/2019H1BCleanedML.csv'\n",
    "#filename = 'Data/2019H1BNumeric5.csv'\n",
    "filename = '2019H1BNumericNew1.csv'\n",
    "data = pd.read_csv(filename)\n",
    "\n",
    "# dimension and objest types\n",
    "print(data.shape, '\\n')\n",
    "print(data.dtypes)\n",
    "\n",
    "data.head(5)"
   ]
  },
  {
   "cell_type": "code",
   "execution_count": 50,
   "metadata": {},
   "outputs": [
    {
     "name": "stdout",
     "output_type": "stream",
     "text": [
      "% of CERTIFIED: 75.0000\n",
      "% of DENIED: 25.0000\n"
     ]
    }
   ],
   "source": [
    "# distribution of target\n",
    "data_size = len(data)\n",
    "label_0 = len(data[data['CASE_STATUS'] == 0])  # DENIED\n",
    "label_1 = len(data[data['CASE_STATUS'] == 1])  # CERTIFIED\n",
    "\n",
    "print(\"% of CERTIFIED: {:.4f}\".format(label_1*100/data_size))\n",
    "print(\"% of DENIED: {:.4f}\".format(label_0*100/data_size))"
   ]
  },
  {
   "cell_type": "code",
   "execution_count": 51,
   "metadata": {},
   "outputs": [
    {
     "data": {
      "text/plain": [
       "CASE_STATUS                     0\n",
       "CASE_SUBMITTED                  0\n",
       "SOC_CODE                        0\n",
       "FULL_TIME_POSITION              0\n",
       "TOTAL_WORKER_POSITIONS          0\n",
       "AGENT_REPRESENTING_EMPLOYER     5\n",
       "H-1B_DEPENDENT                 20\n",
       "WILLFUL_VIOLATOR               20\n",
       "NumOfNaN                        0\n",
       "PERIOD_OF_EMPLOYMENT_LENGTH     0\n",
       "Annual_Wage                     0\n",
       "Fortune                         0\n",
       "EMPLOYER_REGION                 0\n",
       "dtype: int64"
      ]
     },
     "execution_count": 51,
     "metadata": {},
     "output_type": "execute_result"
    }
   ],
   "source": [
    "# Check if there is nan data\n",
    "data.isnull().sum()"
   ]
  },
  {
   "cell_type": "code",
   "execution_count": 52,
   "metadata": {},
   "outputs": [
    {
     "name": "stdout",
     "output_type": "stream",
     "text": [
      "['CASE_SUBMITTED', 'SOC_CODE', 'FULL_TIME_POSITION', 'TOTAL_WORKER_POSITIONS', 'AGENT_REPRESENTING_EMPLOYER', 'H-1B_DEPENDENT', 'WILLFUL_VIOLATOR', 'NumOfNaN', 'PERIOD_OF_EMPLOYMENT_LENGTH', 'Annual_Wage', 'Fortune', 'EMPLOYER_REGION']\n",
      "\n",
      "\n",
      "CASE_STATUS                    int64\n",
      "CASE_SUBMITTED                 int64\n",
      "SOC_CODE                       int64\n",
      "FULL_TIME_POSITION             int64\n",
      "TOTAL_WORKER_POSITIONS         int64\n",
      "AGENT_REPRESENTING_EMPLOYER    int64\n",
      "H-1B_DEPENDENT                 int64\n",
      "WILLFUL_VIOLATOR               int64\n",
      "NumOfNaN                       int64\n",
      "PERIOD_OF_EMPLOYMENT_LENGTH    int64\n",
      "Annual_Wage                    int64\n",
      "Fortune                        int64\n",
      "EMPLOYER_REGION                int64\n",
      "dtype: object\n"
     ]
    },
    {
     "data": {
      "text/html": [
       "<div>\n",
       "<style scoped>\n",
       "    .dataframe tbody tr th:only-of-type {\n",
       "        vertical-align: middle;\n",
       "    }\n",
       "\n",
       "    .dataframe tbody tr th {\n",
       "        vertical-align: top;\n",
       "    }\n",
       "\n",
       "    .dataframe thead th {\n",
       "        text-align: right;\n",
       "    }\n",
       "</style>\n",
       "<table border=\"1\" class=\"dataframe\">\n",
       "  <thead>\n",
       "    <tr style=\"text-align: right;\">\n",
       "      <th></th>\n",
       "      <th>CASE_STATUS</th>\n",
       "      <th>CASE_SUBMITTED</th>\n",
       "      <th>SOC_CODE</th>\n",
       "      <th>FULL_TIME_POSITION</th>\n",
       "      <th>TOTAL_WORKER_POSITIONS</th>\n",
       "      <th>AGENT_REPRESENTING_EMPLOYER</th>\n",
       "      <th>H-1B_DEPENDENT</th>\n",
       "      <th>WILLFUL_VIOLATOR</th>\n",
       "      <th>NumOfNaN</th>\n",
       "      <th>PERIOD_OF_EMPLOYMENT_LENGTH</th>\n",
       "      <th>Annual_Wage</th>\n",
       "      <th>Fortune</th>\n",
       "      <th>EMPLOYER_REGION</th>\n",
       "    </tr>\n",
       "  </thead>\n",
       "  <tbody>\n",
       "    <tr>\n",
       "      <th>0</th>\n",
       "      <td>0</td>\n",
       "      <td>3</td>\n",
       "      <td>11</td>\n",
       "      <td>1</td>\n",
       "      <td>0</td>\n",
       "      <td>1</td>\n",
       "      <td>0</td>\n",
       "      <td>0</td>\n",
       "      <td>5</td>\n",
       "      <td>3</td>\n",
       "      <td>0</td>\n",
       "      <td>0</td>\n",
       "      <td>4</td>\n",
       "    </tr>\n",
       "    <tr>\n",
       "      <th>1</th>\n",
       "      <td>0</td>\n",
       "      <td>1</td>\n",
       "      <td>13</td>\n",
       "      <td>1</td>\n",
       "      <td>0</td>\n",
       "      <td>0</td>\n",
       "      <td>1</td>\n",
       "      <td>0</td>\n",
       "      <td>12</td>\n",
       "      <td>2</td>\n",
       "      <td>2</td>\n",
       "      <td>0</td>\n",
       "      <td>4</td>\n",
       "    </tr>\n",
       "    <tr>\n",
       "      <th>2</th>\n",
       "      <td>0</td>\n",
       "      <td>1</td>\n",
       "      <td>15</td>\n",
       "      <td>1</td>\n",
       "      <td>0</td>\n",
       "      <td>1</td>\n",
       "      <td>0</td>\n",
       "      <td>0</td>\n",
       "      <td>10</td>\n",
       "      <td>3</td>\n",
       "      <td>2</td>\n",
       "      <td>0</td>\n",
       "      <td>2</td>\n",
       "    </tr>\n",
       "    <tr>\n",
       "      <th>3</th>\n",
       "      <td>0</td>\n",
       "      <td>0</td>\n",
       "      <td>11</td>\n",
       "      <td>0</td>\n",
       "      <td>0</td>\n",
       "      <td>0</td>\n",
       "      <td>0</td>\n",
       "      <td>0</td>\n",
       "      <td>18</td>\n",
       "      <td>3</td>\n",
       "      <td>2</td>\n",
       "      <td>0</td>\n",
       "      <td>4</td>\n",
       "    </tr>\n",
       "    <tr>\n",
       "      <th>4</th>\n",
       "      <td>0</td>\n",
       "      <td>2</td>\n",
       "      <td>51</td>\n",
       "      <td>1</td>\n",
       "      <td>0</td>\n",
       "      <td>0</td>\n",
       "      <td>0</td>\n",
       "      <td>0</td>\n",
       "      <td>17</td>\n",
       "      <td>3</td>\n",
       "      <td>0</td>\n",
       "      <td>0</td>\n",
       "      <td>4</td>\n",
       "    </tr>\n",
       "  </tbody>\n",
       "</table>\n",
       "</div>"
      ],
      "text/plain": [
       "   CASE_STATUS  CASE_SUBMITTED  SOC_CODE  FULL_TIME_POSITION  \\\n",
       "0            0               3        11                   1   \n",
       "1            0               1        13                   1   \n",
       "2            0               1        15                   1   \n",
       "3            0               0        11                   0   \n",
       "4            0               2        51                   1   \n",
       "\n",
       "   TOTAL_WORKER_POSITIONS  AGENT_REPRESENTING_EMPLOYER  H-1B_DEPENDENT  \\\n",
       "0                       0                            1               0   \n",
       "1                       0                            0               1   \n",
       "2                       0                            1               0   \n",
       "3                       0                            0               0   \n",
       "4                       0                            0               0   \n",
       "\n",
       "   WILLFUL_VIOLATOR  NumOfNaN  PERIOD_OF_EMPLOYMENT_LENGTH  Annual_Wage  \\\n",
       "0                 0         5                            3            0   \n",
       "1                 0        12                            2            2   \n",
       "2                 0        10                            3            2   \n",
       "3                 0        18                            3            2   \n",
       "4                 0        17                            3            0   \n",
       "\n",
       "   Fortune  EMPLOYER_REGION  \n",
       "0        0                4  \n",
       "1        0                4  \n",
       "2        0                2  \n",
       "3        0                4  \n",
       "4        0                4  "
      ]
     },
     "execution_count": 52,
     "metadata": {},
     "output_type": "execute_result"
    }
   ],
   "source": [
    "'''\n",
    "Preprocessing\n",
    "'''\n",
    "# Get column names that contain nan\n",
    "nan_col = data.columns[data.isna().any()].tolist()\n",
    "# fill 'nan' with mode number or new value\n",
    "for col in nan_col:\n",
    "    data[col] = data[col].fillna(data[col].mode()[0])\n",
    "    \n",
    "# Select features\n",
    "cat_feature = data.columns.values.tolist()\n",
    "#[cat_feature.remove(col) for col in ['CASE_STATUS','CASE_NUMBER','TOTAL_WORKER_POSITIONS','Wage_year']]\n",
    "#[cat_feature.remove(col) for col in ['CASE_STATUS','CASE_NUMBER']]\n",
    "[cat_feature.remove(col) for col in ['CASE_STATUS']]\n",
    "print(cat_feature)\n",
    "\n",
    "# Change types of the columns\n",
    "for col in cat_feature:\n",
    "    data[col] = data[col].astype(int)\n",
    "print('\\n')\n",
    "print(data.dtypes)\n",
    "\n",
    "data.head()"
   ]
  },
  {
   "cell_type": "markdown",
   "metadata": {},
   "source": [
    "# Modeling"
   ]
  },
  {
   "cell_type": "markdown",
   "metadata": {},
   "source": [
    "## Training Model"
   ]
  },
  {
   "cell_type": "code",
   "execution_count": 55,
   "metadata": {},
   "outputs": [
    {
     "name": "stdout",
     "output_type": "stream",
     "text": [
      "train 18586 0.90\n",
      "test  2066  0.10\n"
     ]
    }
   ],
   "source": [
    "# randomly split dataset\n",
    "train, test = train_test_split(data, test_size=0.1, random_state=0)\n",
    "    \n",
    "# numpy array\n",
    "X = train.iloc[:,1:]\n",
    "y = train.iloc[:,0]\n",
    "X_test = test.iloc[:,1:]\n",
    "y_test = test.iloc[:,0]\n",
    "\n",
    "print(\"train {:5d} {:.2f}\".format(len(train), len(train)/len(data)))\n",
    "print(\"test {:5d}  {:.2f}\".format(len(test), len(test)/len(data)))"
   ]
  },
  {
   "cell_type": "code",
   "execution_count": 56,
   "metadata": {},
   "outputs": [
    {
     "name": "stdout",
     "output_type": "stream",
     "text": [
      "Testing Error: 0.2212\n",
      "Accuracy:  0.778800\n",
      "F1 score:  0.860543\n",
      "Precision: 0.818340\n",
      "Recall:    0.907336\n"
     ]
    }
   ],
   "source": [
    "'''\n",
    "Random forest\n",
    "# n_jobs: num of jobs to run in parallel #\n",
    "# random_state: seed                     #\n",
    "'''\n",
    "# Initial setting\n",
    "random_state = 386\n",
    "n_estimators = 200\n",
    "\n",
    "# Random forest\n",
    "clf = RandomForestClassifier(n_estimators=n_estimators, n_jobs=-1,\n",
    "                             random_state=random_state)\n",
    "clf.fit(X, y)\n",
    "\n",
    "# Make predictions\n",
    "pred = clf.predict(X_test)\n",
    "\n",
    "# Evaluation\n",
    "te1 = round(np.mean(abs(y_test - pred)), 6)\n",
    "f1 = f1_score(y_test, pred)\n",
    "accuracy = accuracy_score(y_test, pred)\n",
    "precision = precision_score(y_test, pred)\n",
    "recall = recall_score(y_test, pred)\n",
    "\n",
    "\n",
    "print('Testing Error:', te1)\n",
    "print('Accuracy:  {:.6f}'.format(accuracy))\n",
    "print('F1 score:  {:.6f}'.format(f1))\n",
    "print('Precision: {:.6f}'.format(precision))\n",
    "print('Recall:    {:.6f}'.format(recall))"
   ]
  },
  {
   "cell_type": "markdown",
   "metadata": {},
   "source": [
    "## Hyper-parameters Tuning\n",
    "### Random Hyperparameter Grid Search\n",
    "(n_estimators, max_features, max_depth, min_samples_split, min_samples_leaf, bootstrap)"
   ]
  },
  {
   "cell_type": "code",
   "execution_count": 57,
   "metadata": {},
   "outputs": [
    {
     "name": "stdout",
     "output_type": "stream",
     "text": [
      "{'bootstrap': [True, False],\n",
      " 'max_depth': [10, 20, 30, 40, 50, 60, 70, 80, 90, 100, 110, None],\n",
      " 'max_features': ['auto', 'sqrt', 'log2', None],\n",
      " 'min_samples_leaf': [1, 2, 4],\n",
      " 'min_samples_split': [2, 5, 10],\n",
      " 'n_estimators': [200, 400, 600, 800, 1000, 1200, 1400, 1600, 1800, 2000]}\n"
     ]
    }
   ],
   "source": [
    "'''\n",
    "Random Hyperparameter Grid\n",
    "'''\n",
    "from sklearn.model_selection import RandomizedSearchCV\n",
    "\n",
    "# Number of trees in random forest\n",
    "n_estimators = [int(x) for x in np.linspace(start = 200, stop = 2000, num = 10)]\n",
    "\n",
    "# Number of features to consider at every split\n",
    "max_features = ['auto', 'sqrt', 'log2', None]\n",
    "\n",
    "# Maximum number of levels in tree\n",
    "max_depth = [int(x) for x in np.linspace(10, 110, num=11)]\n",
    "max_depth.append(None)\n",
    "\n",
    "# Minimum number of samples required to split a node\n",
    "min_samples_split = [2, 5, 10]\n",
    "\n",
    "# Minimum number of samples required at each leaf node\n",
    "min_samples_leaf = [1, 2, 4]\n",
    "\n",
    "# Method of selecting samples for training each tree\n",
    "bootstrap = [True, False]\n",
    "\n",
    "# Create the random grid\n",
    "random_grid = {'n_estimators': n_estimators,\n",
    "               'max_features': max_features,\n",
    "               'max_depth': max_depth,\n",
    "               'min_samples_split': min_samples_split,\n",
    "               'min_samples_leaf': min_samples_leaf,\n",
    "               'bootstrap': bootstrap}\n",
    "\n",
    "pp.pprint(random_grid)"
   ]
  },
  {
   "cell_type": "code",
   "execution_count": 58,
   "metadata": {},
   "outputs": [
    {
     "name": "stdout",
     "output_type": "stream",
     "text": [
      "Fitting 3 folds for each of 100 candidates, totalling 300 fits\n"
     ]
    },
    {
     "name": "stderr",
     "output_type": "stream",
     "text": [
      "[Parallel(n_jobs=-1)]: Using backend LokyBackend with 4 concurrent workers.\n",
      "[Parallel(n_jobs=-1)]: Done  33 tasks      | elapsed:  3.8min\n",
      "[Parallel(n_jobs=-1)]: Done 154 tasks      | elapsed: 12.9min\n",
      "[Parallel(n_jobs=-1)]: Done 300 out of 300 | elapsed: 24.5min finished\n"
     ]
    },
    {
     "name": "stdout",
     "output_type": "stream",
     "text": [
      "RandomForestClassifier(bootstrap=False, ccp_alpha=0.0, class_weight=None,\n",
      "                       criterion='gini', max_depth=70, max_features='log2',\n",
      "                       max_leaf_nodes=None, max_samples=None,\n",
      "                       min_impurity_decrease=0.0, min_impurity_split=None,\n",
      "                       min_samples_leaf=4, min_samples_split=10,\n",
      "                       min_weight_fraction_leaf=0.0, n_estimators=1200,\n",
      "                       n_jobs=-1, oob_score=False, random_state=386, verbose=0,\n",
      "                       warm_start=False) \n",
      "\n",
      "CPU times: user 19.9 s, sys: 1.2 s, total: 21.1 s\n",
      "Wall time: 24min 36s\n"
     ]
    }
   ],
   "source": [
    "%%time\n",
    "'''\n",
    "Randomized Search\n",
    "'''\n",
    "# Use the random grid to search for best hyperparameters\n",
    "clf_random = RandomizedSearchCV(estimator = clf, \n",
    "                                param_distributions = random_grid, \n",
    "                                n_iter = 100, cv = 3, verbose = 2, \n",
    "                                random_state = random_state, n_jobs = -1)\n",
    "# Fit the random search model\n",
    "clf_random.fit(X, y)\n",
    "\n",
    "# Find the best estimator\n",
    "best_random = clf_random.best_estimator_\n",
    "print(best_random, '\\n')"
   ]
  },
  {
   "cell_type": "code",
   "execution_count": 10,
   "metadata": {},
   "outputs": [
    {
     "name": "stdout",
     "output_type": "stream",
     "text": [
      "---- Model Performance ----\n",
      "Best Testing Error: 0.21394\n",
      "Improvement: -1.61%\n",
      "\n",
      "Accuracy:  0.786060\n",
      "F1 score:  0.866385\n",
      "Precision: 0.807324\n",
      "Recall:    0.934768\n"
     ]
    }
   ],
   "source": [
    "# Evaluate the best model\n",
    "best_clf = RandomForestClassifier(bootstrap=True, ccp_alpha=0.0, class_weight=None,\n",
    "                       criterion='gini', max_depth=90, max_features='sqrt',\n",
    "                       max_leaf_nodes=None, max_samples=None,\n",
    "                       min_impurity_decrease=0.0, min_impurity_split=None,\n",
    "                       min_samples_leaf=2, min_samples_split=10,\n",
    "                       min_weight_fraction_leaf=0.0, n_estimators=1400,\n",
    "                       n_jobs=-1, oob_score=False, random_state=386, verbose=0,\n",
    "                       warm_start=False) \n",
    "\n",
    "best_clf.fit(X, y)\n",
    "\n",
    "pred = best_clf.predict(X_test)\n",
    "te2 = round(np.mean(abs(y_test - pred)), 6)\n",
    "print('---- Model Performance ----')\n",
    "print('Best Testing Error:', te2)\n",
    "print('Improvement: {:2.2f}%\\n'.format(100*(te1-te2)/te1))\n",
    "\n",
    "f1 = f1_score(y_test, pred)\n",
    "precision = precision_score(y_test, pred)\n",
    "recall = recall_score(y_test, pred)\n",
    "accuracy = accuracy_score(y_test, pred)\n",
    "\n",
    "print('Accuracy:  {:.6f}'.format(accuracy))\n",
    "print('F1 score:  {:.6f}'.format(f1))\n",
    "print('Precision: {:.6f}'.format(precision))\n",
    "print('Recall:    {:.6f}'.format(recall))"
   ]
  },
  {
   "cell_type": "markdown",
   "metadata": {},
   "source": [
    "## Cross-validation\n",
    "### Final Model"
   ]
  },
  {
   "cell_type": "code",
   "execution_count": null,
   "metadata": {},
   "outputs": [],
   "source": [
    "from sklearn.metrics import confusion_matrix\n",
    "from sklearn.metrics import plot_confusion_matrix"
   ]
  },
  {
   "cell_type": "code",
   "execution_count": null,
   "metadata": {},
   "outputs": [],
   "source": [
    "'''\n",
    "Cross Validation\n",
    "'''\n",
    "\n",
    "def cross_validation_rf_simple(clf):\n",
    "    # scores\n",
    "    f1_scores = []\n",
    "    accuracy_scores = []\n",
    "    te_scores = []\n",
    "\n",
    "    # evaluation methods\n",
    "    method = ['f1', 'accuracy', 'test error']\n",
    "\n",
    "    # shuffle split\n",
    "    shufspl = ShuffleSplit(train_size=0.8, test_size=0.2, n_splits=5)\n",
    "\n",
    "    # full data set\n",
    "    X = data.iloc[:,1:]\n",
    "    y = data.iloc[:,0]\n",
    "    \n",
    "    for train, test in shufspl.split(X):\n",
    "        # print(\"train\", train, \"\\ntest\", test)\n",
    "        # fitting and prediction\n",
    "        clf.fit(X.iloc[train], y.iloc[train])\n",
    "        cross_pred = clf.predict(X.iloc[test])\n",
    "        \n",
    "        # evaluation\n",
    "        f1 = f1_score(y.iloc[test], cross_pred)\n",
    "        accuracy = accuracy_score(y.iloc[test], cross_pred)\n",
    "        error = round(np.mean(abs(y.iloc[test] - cross_pred)), 6)\n",
    "        \n",
    "        # scores.append(grade)\n",
    "        f1_scores.append(f1)\n",
    "        accuracy_scores.append(accuracy)\n",
    "        te_scores.append(error)\n",
    "        \n",
    "    \n",
    "    print(\"\\n-- Evaluation --\")\n",
    "    print(f1_scores)\n",
    "    print('%s Scores: %.6f \\n' % (method[0], np.mean(f1_scores)))\n",
    "    print(accuracy_scores)\n",
    "    print('%s Scores: %.6f \\n' % (method[1], np.mean(accuracy_scores)))\n",
    "    print(te_scores)\n",
    "    print('%s Scores: %.6f \\n' % (method[2], np.mean(te_scores)))\n",
    "\n",
    "    return np.mean(te_scores)\n"
   ]
  },
  {
   "cell_type": "code",
   "execution_count": 13,
   "metadata": {},
   "outputs": [
    {
     "name": "stdout",
     "output_type": "stream",
     "text": [
      "---- Original Model ----\n",
      "Start training...\n",
      "\n",
      "train [ 2552  6224 10227 ...  4027 11533  3186] \n",
      "test [ 9433  7097  6259 ... 16454 19199 16034]\n",
      "train [19907 15306  9414 ... 11071 12589 15448] \n",
      "test [11331  7617 19274 ...  3133 14157  1085]\n",
      "train [ 9453  3017 16828 ...  4019  4845 18316] \n",
      "test [11799  7461 10055 ...  5654  5883  9286]\n",
      "train [10773  5876 14525 ... 14261 18096 19785] \n",
      "test [ 4556   666  5019 ... 13138  6658 13486]\n",
      "train [ 3552 14583 17477 ...  2765 14253  4636] \n",
      "test [18226  6092  2461 ...  3579  9868 19073]\n",
      "train [12747  1388  3354 ...  9673  2119  4320] \n",
      "test [ 6006  3152 18322 ... 11265 12745  6730]\n",
      "train [17821 16471 16784 ...  5560  2350 18614] \n",
      "test [ 3090   689 20115 ...  3546  6303  4212]\n",
      "train [  526  1268  4383 ... 11841 11983 10631] \n",
      "test [  983  6875   140 ... 10342  8995  2200]\n",
      "train [ 1121 19332 10316 ...  9275 10730 10607] \n",
      "test [19520  4329  1331 ...  3766 15075 13058]\n",
      "train [ 9694 13712   451 ... 20102 11438  7306] \n",
      "test [14461   367  4843 ... 12602 19968 12183]\n",
      "\n",
      "-- Evaluation --\n",
      "[0.866421568627451, 0.8670591881004028, 0.8707317073170731, 0.8691358024691358, 0.8615948670944088, 0.8645515558267236, 0.8699605941194303, 0.8638871857755979, 0.863975155279503, 0.8623965675758505]\n",
      "f1 Scores: 0.865971 \n",
      "\n",
      "[0.7889641819941917, 0.792352371732817, 0.7947725072604066, 0.7947725072604066, 0.7807357212003873, 0.7850919651500484, 0.792352371732817, 0.7850919651500484, 0.7879961277831559, 0.7826718296224588]\n",
      "accuracy Scores: 0.788480 \n",
      "\n",
      "[0.211036, 0.207648, 0.205227, 0.205227, 0.219264, 0.214908, 0.207648, 0.214908, 0.212004, 0.217328]\n",
      "test error Scores: 0.211520 \n",
      "\n",
      "---- Improved Model ----\n",
      "Start training...\n",
      "\n",
      "train [20048  7388 18836 ...  2278 11143 17403] \n",
      "test [13163 11896  8104 ...  6347  5220 19689]\n",
      "train [ 3602 18003  6719 ... 17076  3411  1598] \n",
      "test [16086  4520  5215 ...  1076 11579  4246]\n",
      "train [12280  8013 12543 ... 17502 20586  4000] \n",
      "test [16170   978 20168 ...  1767  1749  1469]\n",
      "train [ 3571 11750  4022 ...  4321  4495 16001] \n",
      "test [11651 11428 16159 ... 15302 12276 12785]\n",
      "train [16976   627  7830 ...   859  3624 13289] \n",
      "test [  681  1145 10215 ... 10207 12881  1723]\n",
      "train [ 6190  4246  6546 ... 20603  3490 19663] \n",
      "test [13184 16797 13324 ... 18519 15167  5602]\n",
      "train [10980  3618  7380 ...  8077 14695  4131] \n",
      "test [15396  1085 11523 ...  9003 13890 11051]\n",
      "train [19762 12133  5847 ... 14109 11466 13308] \n",
      "test [ 2693   400  6796 ...  8701 20587 17907]\n",
      "train [12271 15258 16174 ...  3810  3764 19415] \n",
      "test [ 2085  2748  3920 ...  9302 18263 14620]\n",
      "train [14298  2743 12094 ... 11890 20275 19046] \n",
      "test [11280 17593  5793 ... 18158 12314  6341]\n",
      "\n",
      "-- Evaluation --\n",
      "[0.8706948640483384, 0.8615384615384615, 0.8724179829890644, 0.8713467912021694, 0.8726056552143509, 0.8671497584541062, 0.871475215197388, 0.8730300327088908, 0.8757181735712126, 0.8733153638814016]\n",
      "f1 Scores: 0.870929 \n",
      "\n",
      "[0.7928363988383349, 0.7778315585672798, 0.7967086156824782, 0.7933204259438529, 0.7971926427879962, 0.78702807357212, 0.7904162633107454, 0.7933204259438529, 0.8010648596321394, 0.7952565343659245]\n",
      "accuracy Scores: 0.792498 \n",
      "\n",
      "[0.207164, 0.222168, 0.203291, 0.20668, 0.202807, 0.212972, 0.209584, 0.20668, 0.198935, 0.204743]\n",
      "test error Scores: 0.207502 \n",
      "\n"
     ]
    }
   ],
   "source": [
    "'''\n",
    "Run models using CV\n",
    "'''\n",
    "\n",
    "print(\"---- Original Model ----\")\n",
    "te0 = cross_validation_rf_simple(clf)\n",
    "\n",
    "print(\"---- Improved Model ----\")\n",
    "te = cross_validation_rf_simple(best_clf)\n",
    "\n",
    "\n",
    "'''\n",
    "Results\n",
    "'''\n",
    "\n",
    "results = {'Model':[\"Basic\", \"Improved\"],\n",
    "           'Test Error':[te0, te]} \n",
    "\n",
    "df = pd.DataFrame(results)"
   ]
  },
  {
   "cell_type": "code",
   "execution_count": 14,
   "metadata": {},
   "outputs": [
    {
     "name": "stdout",
     "output_type": "stream",
     "text": [
      "Improvement: 1.90%\n"
     ]
    },
    {
     "data": {
      "text/html": [
       "<div>\n",
       "<style scoped>\n",
       "    .dataframe tbody tr th:only-of-type {\n",
       "        vertical-align: middle;\n",
       "    }\n",
       "\n",
       "    .dataframe tbody tr th {\n",
       "        vertical-align: top;\n",
       "    }\n",
       "\n",
       "    .dataframe thead th {\n",
       "        text-align: right;\n",
       "    }\n",
       "</style>\n",
       "<table border=\"1\" class=\"dataframe\">\n",
       "  <thead>\n",
       "    <tr style=\"text-align: right;\">\n",
       "      <th></th>\n",
       "      <th>Model</th>\n",
       "      <th>Test Error</th>\n",
       "    </tr>\n",
       "  </thead>\n",
       "  <tbody>\n",
       "    <tr>\n",
       "      <th>0</th>\n",
       "      <td>Basic</td>\n",
       "      <td>0.211520</td>\n",
       "    </tr>\n",
       "    <tr>\n",
       "      <th>1</th>\n",
       "      <td>Improved</td>\n",
       "      <td>0.207502</td>\n",
       "    </tr>\n",
       "  </tbody>\n",
       "</table>\n",
       "</div>"
      ],
      "text/plain": [
       "      Model  Test Error\n",
       "0     Basic    0.211520\n",
       "1  Improved    0.207502"
      ]
     },
     "execution_count": 14,
     "metadata": {},
     "output_type": "execute_result"
    }
   ],
   "source": [
    "# Calculate improvement\n",
    "improvement = 100*(te0-te)/te0\n",
    "print('Improvement: {:2.2f}%'.format(improvement))\n",
    "\n",
    "df.head()"
   ]
  },
  {
   "cell_type": "markdown",
   "metadata": {},
   "source": [
    "# Results"
   ]
  },
  {
   "cell_type": "markdown",
   "metadata": {},
   "source": [
    "## Variable Importances"
   ]
  },
  {
   "cell_type": "code",
   "execution_count": 33,
   "metadata": {},
   "outputs": [
    {
     "name": "stdout",
     "output_type": "stream",
     "text": [
      "Variable: NumOfNaN                       Importance: 0.295954\n",
      "Variable: SOC_CODE                       Importance: 0.185112\n",
      "Variable: EMPLOYER_REGION                Importance: 0.134489\n",
      "Variable: CASE_SUBMITTED                 Importance: 0.115603\n",
      "Variable: Annual_Wage                    Importance: 0.065508\n",
      "Variable: H-1B_DEPENDENT                 Importance: 0.063665\n",
      "Variable: PERIOD_OF_EMPLOYMENT_LENGTH    Importance: 0.049607\n",
      "Variable: FULL_TIME_POSITION             Importance: 0.026177\n",
      "Variable: Fortune                        Importance: 0.024958\n",
      "Variable: TOTAL_WORKER_POSITIONS         Importance: 0.01928\n",
      "Variable: AGENT_REPRESENTING_EMPLOYER    Importance: 0.018998\n",
      "Variable: WILLFUL_VIOLATOR               Importance: 0.000649\n"
     ]
    }
   ],
   "source": [
    "'''\n",
    "Variable Importances\n",
    "'''\n",
    "# Get numerical feature importances\n",
    "importances = list(clf.feature_importances_)\n",
    "\n",
    "# List of tuples with variable and importance\n",
    "feature_importances = [(feature, round(importance, 6)) for feature, importance in zip(cat_feature, importances)]\n",
    "\n",
    "# Sort the feature importances by most important first\n",
    "feature_importances = sorted(feature_importances, key = lambda x: x[1], reverse = True)\n",
    "\n",
    "# Print out the feature and importances \n",
    "[print('Variable: {:30} Importance: {}'.format(*pair)) for pair in feature_importances];"
   ]
  },
  {
   "cell_type": "code",
   "execution_count": 34,
   "metadata": {},
   "outputs": [
    {
     "name": "stdout",
     "output_type": "stream",
     "text": [
      "Number of features for 95% importance: 9\n",
      "\n",
      "Important Feature names:\n",
      " ['NumOfNaN', 'SOC_CODE', 'EMPLOYER_REGION', 'CASE_SUBMITTED', 'Annual_Wage', 'H-1B_DEPENDENT', 'PERIOD_OF_EMPLOYMENT_LENGTH', 'FULL_TIME_POSITION', 'Fortune']\n",
      "\n",
      "Important Feature index:\n",
      " [7, 1, 11, 0, 9, 5, 8, 2, 10]\n"
     ]
    }
   ],
   "source": [
    "# sort features based on importance\n",
    "sorted_importances = [importance[1] for importance in feature_importances]\n",
    "sorted_features = [importance[0] for importance in feature_importances]\n",
    "\n",
    "# Cumulative importances\n",
    "cumulative_importances = np.cumsum(sorted_importances)\n",
    "\n",
    "# Find number of features for cumulative importance of 95% (add 1 because of zero-indexed)\n",
    "start = np.where(cumulative_importances > 0.95)[0][0] + 1\n",
    "print('Number of features for 95% importance:', start)\n",
    "\n",
    "# names of important features\n",
    "important_feature_names = [feature[0] for feature in feature_importances[0:start]]\n",
    "\n",
    "# Find the columns of the most important features\n",
    "important_indices = [cat_feature.index(feature) for feature in important_feature_names]\n",
    "print('\\nImportant Feature names:\\n', important_feature_names)\n",
    "print('\\nImportant Feature index:\\n', important_indices)"
   ]
  },
  {
   "cell_type": "code",
   "execution_count": 47,
   "metadata": {},
   "outputs": [
    {
     "data": {
      "image/png": "[encoded data removed]",
      "text/plain": [
       "<Figure size 432x288 with 1 Axes>"
      ]
     },
     "metadata": {
      "needs_background": "light"
     },
     "output_type": "display_data"
    }
   ],
   "source": [
    "'''\n",
    "Plot\n",
    "'''\n",
    "# list of x locations for plotting\n",
    "x_values = list(range(len(importances)))\n",
    "\n",
    "# Make a bar chart\n",
    "plt.bar(x_values, importances, orientation = 'vertical')\n",
    "\n",
    "# Tick labels for x axis\n",
    "plt.xticks(x_values, cat_feature, rotation = 'vertical')\n",
    "\n",
    "# Axis labels and title\n",
    "plt.ylabel('Importance')\n",
    "plt.xlabel('Feature')\n",
    "plt.title('Variable Importances')\n",
    "\n",
    "plt.show()"
   ]
  },
  {
   "cell_type": "markdown",
   "metadata": {},
   "source": [
    "## Precision and Recall"
   ]
  },
  {
   "cell_type": "code",
   "execution_count": 15,
   "metadata": {},
   "outputs": [
    {
     "name": "stdout",
     "output_type": "stream",
     "text": [
      "AUC score:\n",
      "No Skill = 0.5000\n",
      "Random Forest = 0.7842\n"
     ]
    },
    {
     "data": {
      "image/png": "[encoded data removed]",
      "text/plain": [
       "<Figure size 432x288 with 1 Axes>"
      ]
     },
     "metadata": {
      "needs_background": "light"
     },
     "output_type": "display_data"
    }
   ],
   "source": [
    "'''\n",
    "ROC curve\n",
    "'''\n",
    "from sklearn.metrics import roc_curve\n",
    "from sklearn.metrics import roc_auc_score\n",
    "\n",
    "best_clf = RandomForestClassifier(bootstrap=False, ccp_alpha=0.0, class_weight=None,\n",
    "                       criterion='gini', max_depth=90, max_features='sqrt',\n",
    "                       max_leaf_nodes=None, max_samples=None,\n",
    "                       min_impurity_decrease=0.0, min_impurity_split=None,\n",
    "                       min_samples_leaf=2, min_samples_split=10,\n",
    "                       min_weight_fraction_leaf=0.0, n_estimators=1400,\n",
    "                       n_jobs=-1, oob_score=False, random_state=386, verbose=0,\n",
    "                       warm_start=False) \n",
    "\n",
    "best_clf.fit(X, y)\n",
    "\n",
    "# predict probabilities\n",
    "rf_probs = best_clf.predict_proba(X_test)\n",
    "\n",
    "# keep probabilities for the positive outcome only\n",
    "rf_probs = rf_probs[:, 1]\n",
    "\n",
    "# generate a `no-skill` prediction (majority class)\n",
    "ns_probs = [0 for _ in range(len(y_test))]\n",
    "\n",
    "# calculate scores\n",
    "ns_auc = roc_auc_score(y_test, ns_probs)\n",
    "rf_auc = roc_auc_score(y_test, rf_probs)\n",
    "\n",
    "# summarize scores\n",
    "print(\"AUC score:\")\n",
    "print('No Skill = %.4f' % (ns_auc))\n",
    "print('Random Forest = %.4f' % (rf_auc))\n",
    "\n",
    "# calculate roc curves\n",
    "ns_fpr, ns_tpr, _ = roc_curve(y_test, ns_probs)\n",
    "rf_fpr, rf_tpr, _ = roc_curve(y_test, rf_probs)\n",
    "\n",
    "# plot the roc curve for the model\n",
    "plt.plot(ns_fpr, ns_tpr, linestyle='--', label='No Skill')\n",
    "plt.plot(rf_fpr, rf_tpr, marker='.', label='Random Forest')\n",
    "\n",
    "plt.xlabel('False Positive Rate')\n",
    "plt.ylabel('True Positive Rate')\n",
    "plt.legend()\n",
    "plt.show()"
   ]
  },
  {
   "cell_type": "code",
   "execution_count": 16,
   "metadata": {},
   "outputs": [
    {
     "name": "stdout",
     "output_type": "stream",
     "text": [
      "Precision = 0.872235\n",
      "Recall    = 0.643226\n",
      "F1 score  = 0.870438\n",
      "AUC score = 0.904220\n"
     ]
    },
    {
     "data": {
      "image/png": "[encoded data removed]",
      "text/plain": [
       "<Figure size 432x288 with 1 Axes>"
      ]
     },
     "metadata": {
      "needs_background": "light"
     },
     "output_type": "display_data"
    }
   ],
   "source": [
    "'''\n",
    "Precision-Recall Curves\n",
    "'''\n",
    "from sklearn.metrics import precision_recall_curve\n",
    "from sklearn.metrics import auc\n",
    "\n",
    "# predict class values\n",
    "yhat = best_clf.predict(X_test)\n",
    "rf_precision, rf_recall, _ = precision_recall_curve(y_test, rf_probs)\n",
    "rf_f1, rf_auc = f1_score(y_test, yhat), auc(rf_recall, rf_precision)\n",
    "\n",
    "# summarize scores\n",
    "print('Precision = %.6f' % (np.mean(rf_precision)))\n",
    "print('Recall    = %.6f' % (np.mean(rf_recall)))\n",
    "print('F1 score  = %.6f' % (rf_f1))\n",
    "print('AUC score = %.6f' % (rf_auc))\n",
    "\n",
    "# plot the precision-recall curves\n",
    "no_skill = len(y_test[y_test==1]) / len(y_test)\n",
    "plt.plot([0, 1], [no_skill, no_skill], linestyle='--', label='No Skill')\n",
    "plt.plot(rf_recall, rf_precision, marker='.', label='Random Forest')\n",
    "\n",
    "plt.xlabel('Recall')\n",
    "plt.ylabel('Precision')\n",
    "plt.legend()\n",
    "plt.show()"
   ]
  },
  {
   "cell_type": "code",
   "execution_count": 20,
   "metadata": {},
   "outputs": [
    {
     "name": "stdout",
     "output_type": "stream",
     "text": [
      "[[ 209  102]\n",
      " [ 324 1431]] \n",
      "\n",
      "Precision: 0.815385\n",
      "Recall:    0.933464\n",
      "F1 score:  0.870438\n"
     ]
    },
    {
     "data": {
      "image/png": "[encoded data removed]",
      "text/plain": [
       "<Figure size 432x288 with 2 Axes>"
      ]
     },
     "metadata": {
      "needs_background": "light"
     },
     "output_type": "display_data"
    }
   ],
   "source": [
    "'''\n",
    "Confusion Matrix\n",
    "'''\n",
    "from sklearn.metrics import confusion_matrix\n",
    "from sklearn.metrics import plot_confusion_matrix\n",
    "\n",
    "#yhat = best_clf.predict(X_test)\n",
    "conf_mat = confusion_matrix(yhat, y_test)\n",
    "print(conf_mat, '\\n')\n",
    "\n",
    "print(\"Precision: {:.6f}\".format(precision_score(y_test, yhat)))\n",
    "print(\"Recall:    {:.6f}\".format(recall_score(y_test, yhat)))\n",
    "print(\"F1 score:  {:.6f}\".format(f1_score(y_test, yhat)))\n",
    "\n",
    "disp = plot_confusion_matrix(best_clf, X_test, y_test,\n",
    "                            display_labels=[\"Denied\", \"Certified\"], \n",
    "                            cmap=plt.cm.Blues, normalize='true')"
   ]
  },
  {
   "cell_type": "markdown",
   "metadata": {},
   "source": [
    "## Data Visualizations\n",
    "1. OOB Error\n",
    "    * n_estimators\n",
    "    * max_features  \n",
    "2. Validation Curves\n",
    "    * n_estimators\n",
    "    * max_depth\n",
    "    * min_samples_split\n",
    "    * min_samples_leaf"
   ]
  },
  {
   "cell_type": "markdown",
   "metadata": {},
   "source": [
    "### - OOB Error"
   ]
  },
  {
   "cell_type": "code",
   "execution_count": 36,
   "metadata": {},
   "outputs": [
    {
     "data": {
      "image/png": "[encoded data removed]",
      "text/plain": [
       "<Figure size 432x288 with 1 Axes>"
      ]
     },
     "metadata": {
      "needs_background": "light"
     },
     "output_type": "display_data"
    },
    {
     "name": "stdout",
     "output_type": "stream",
     "text": [
      "CPU times: user 5min 18s, sys: 6.01 s, total: 5min 24s\n",
      "Wall time: 5min 29s\n"
     ]
    }
   ],
   "source": [
    "%%time\n",
    "'''\n",
    "OOB Errors \n",
    "(max_features, n_estimators)\n",
    "'''\n",
    "from collections import OrderedDict\n",
    "\n",
    "# `warm_start`: disable support for parallelized ensembles\n",
    "ensemble_clfs = [\n",
    "    (\"max_features='sqrt'\",\n",
    "        RandomForestClassifier(warm_start=True, oob_score=True,\n",
    "                               max_features=\"sqrt\",\n",
    "                               random_state=random_state)),\n",
    "    (\"max_features='log2'\",\n",
    "        RandomForestClassifier(warm_start=True, oob_score=True,\n",
    "                               max_features='log2',\n",
    "                               random_state=random_state)),\n",
    "    (\"max_features=None\",\n",
    "        RandomForestClassifier(warm_start=True, oob_score=True,\n",
    "                               max_features=None,\n",
    "                               random_state=random_state))\n",
    "]\n",
    "\n",
    "# Map a classifier name to a list of (<n_estimators>, <error rate>) pairs.\n",
    "error_rate = OrderedDict((label, []) for label, _ in ensemble_clfs)\n",
    "\n",
    "# Range of `n_estimators` values to explore\n",
    "min_estimators = 200\n",
    "max_estimators = 2400\n",
    "\n",
    "for label, clf in ensemble_clfs:\n",
    "    for i in range(min_estimators, max_estimators+1, 100):\n",
    "        clf.set_params(n_estimators=i)\n",
    "        clf.fit(X, y)\n",
    "        # Record the OOB error\n",
    "        oob_error = 1 - clf.oob_score_\n",
    "        error_rate[label].append((i, oob_error))\n",
    "\n",
    "# Generate plot\n",
    "for label, clf_err in error_rate.items():\n",
    "    xs, ys = zip(*clf_err)\n",
    "    plt.plot(xs, ys, label=label)\n",
    "\n",
    "plt.xlim(min_estimators, max_estimators)\n",
    "plt.xlabel(\"n_estimators\")\n",
    "plt.ylabel(\"OOB error rate\")\n",
    "plt.legend(loc=\"best\")\n",
    "plt.grid()\n",
    "plt.show()"
   ]
  },
  {
   "cell_type": "markdown",
   "metadata": {},
   "source": [
    "### - Validation Curves"
   ]
  },
  {
   "cell_type": "code",
   "execution_count": 28,
   "metadata": {},
   "outputs": [],
   "source": [
    "'''\n",
    "Validation Curves\n",
    "'''\n",
    "from sklearn.model_selection import validation_curve\n",
    "\n",
    "def run_validation_curves(param_name, param_range):\n",
    "    train_scores, test_scores = validation_curve(clf, X = X, y = y, \n",
    "                                                 param_name = param_name, \n",
    "                                                 param_range = param_range, \n",
    "                                                 cv = 3)\n",
    "\n",
    "    # Calculate mean and standard deviation for training set scores\n",
    "    train_mean = np.mean(train_scores, axis=1)\n",
    "    train_std = np.std(train_scores, axis=1)\n",
    "\n",
    "    # Calculate mean and standard deviation for test set scores\n",
    "    test_mean = np.mean(test_scores, axis=1)\n",
    "    test_std = np.std(test_scores, axis=1)\n",
    "\n",
    "    # Plot mean accuracy scores for training and test sets\n",
    "    plt.plot(param_range, train_mean, label=\"Training score\")\n",
    "    plt.plot(param_range, test_mean, label=\"Cross-validation score\")\n",
    "\n",
    "    # Plot accurancy bands for training and test sets\n",
    "    plt.fill_between(param_range, train_mean-train_std, train_mean+train_std, color=\"lightskyblue\")\n",
    "    plt.fill_between(param_range, test_mean-test_std, test_mean+test_std, color=\"bisque\")\n",
    "    \n",
    "    # Create plot\n",
    "    plt.title(\"Validation Curve for {}\".format(param_name))\n",
    "    plt.xlabel(param_name)\n",
    "    plt.ylabel(\"Accuracy Score\")\n",
    "    plt.legend(loc=\"best\")\n",
    "    plt.grid()\n",
    "    plt.show()\n",
    "    \n",
    "    return"
   ]
  },
  {
   "cell_type": "markdown",
   "metadata": {},
   "source": [
    "#### n_estimators"
   ]
  },
  {
   "cell_type": "code",
   "execution_count": 30,
   "metadata": {},
   "outputs": [
    {
     "data": {
      "image/png": "[encoded data removed]",
      "text/plain": [
       "<Figure size 432x288 with 1 Axes>"
      ]
     },
     "metadata": {
      "needs_background": "light"
     },
     "output_type": "display_data"
    }
   ],
   "source": [
    "# 1. n_estimators\n",
    "run_validation_curves(\"n_estimators\", n_estimators)"
   ]
  },
  {
   "cell_type": "markdown",
   "metadata": {},
   "source": [
    "#### max_depth"
   ]
  },
  {
   "cell_type": "code",
   "execution_count": 31,
   "metadata": {},
   "outputs": [
    {
     "data": {
      "image/png": "[encoded data removed]",
      "text/plain": [
       "<Figure size 432x288 with 1 Axes>"
      ]
     },
     "metadata": {
      "needs_background": "light"
     },
     "output_type": "display_data"
    }
   ],
   "source": [
    "# 2. max_depth\n",
    "param_range = max_depth\n",
    "param_range.pop()\n",
    "run_validation_curves(\"max_depth\", param_range)"
   ]
  },
  {
   "cell_type": "markdown",
   "metadata": {},
   "source": [
    "#### min_samples_split"
   ]
  },
  {
   "cell_type": "code",
   "execution_count": 32,
   "metadata": {},
   "outputs": [
    {
     "data": {
      "image/png": "[encoded data removed]",
      "text/plain": [
       "<Figure size 432x288 with 1 Axes>"
      ]
     },
     "metadata": {
      "needs_background": "light"
     },
     "output_type": "display_data"
    }
   ],
   "source": [
    "# 3. min_samples_split\n",
    "run_validation_curves(\"min_samples_split\", min_samples_split)"
   ]
  },
  {
   "cell_type": "markdown",
   "metadata": {},
   "source": [
    "#### min_samples_leaf"
   ]
  },
  {
   "cell_type": "code",
   "execution_count": 29,
   "metadata": {},
   "outputs": [
    {
     "data": {
      "image/png": "[encoded data removed]",
      "text/plain": [
       "<Figure size 432x288 with 1 Axes>"
      ]
     },
     "metadata": {
      "needs_background": "light"
     },
     "output_type": "display_data"
    }
   ],
   "source": [
    "# 4. min_samples_leaf\n",
    "run_validation_curves(\"min_samples_leaf\", min_samples_leaf)"
   ]
  },
  {
   "cell_type": "code",
   "execution_count": null,
   "metadata": {},
   "outputs": [],
   "source": []
  }
 ],
 "metadata": {
  "kernelspec": {
   "display_name": "Python 3",
   "language": "python",
   "name": "python3"
  },
  "language_info": {
   "codemirror_mode": {
    "name": "ipython",
    "version": 3
   },
   "file_extension": ".py",
   "mimetype": "text/x-python",
   "name": "python",
   "nbconvert_exporter": "python",
   "pygments_lexer": "ipython3",
   "version": "3.7.6"
  }
 },
 "nbformat": 4,
 "nbformat_minor": 2
}
